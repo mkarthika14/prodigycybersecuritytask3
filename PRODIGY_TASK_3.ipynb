{
  "nbformat": 4,
  "nbformat_minor": 0,
  "metadata": {
    "colab": {
      "provenance": []
    },
    "kernelspec": {
      "name": "python3",
      "display_name": "Python 3"
    },
    "language_info": {
      "name": "python"
    }
  },
  "cells": [
    {
      "cell_type": "code",
      "source": [
        "import re\n",
        "\n",
        "def check_password_complexity(password):\n",
        "    # Define criteria for password strength\n",
        "    length_criteria = len(password) >= 8\n",
        "    uppercase_criteria = bool(re.search(r'[A-Z]', password))\n",
        "    lowercase_criteria = bool(re.search(r'[a-z]', password))\n",
        "    digit_criteria = bool(re.search(r'\\d', password))\n",
        "    special_char_criteria = bool(re.search(r'[!@#$%^&*(),.?\":{}|<>]', password))\n",
        "\n",
        "    # Assess the strength of the password based on criteria\n",
        "    if length_criteria and uppercase_criteria and lowercase_criteria and digit_criteria and special_char_criteria:\n",
        "        return \"Strong password! 👍\"\n",
        "    else:\n",
        "        feedback = \"Weak password. Consider the following improvements:\\n\"\n",
        "        if not length_criteria:\n",
        "            feedback += \"- Ensure the password is at least 8 characters long\\n\"\n",
        "        if not uppercase_criteria:\n",
        "            feedback += \"- Include at least one uppercase letter\\n\"\n",
        "        if not lowercase_criteria:\n",
        "            feedback += \"- Include at least one lowercase letter\\n\"\n",
        "        if not digit_criteria:\n",
        "            feedback += \"- Include at least one digit\\n\"\n",
        "        if not special_char_criteria:\n",
        "            feedback += \"- Include at least one special character (!@#$%^&*(),.?\\\":{}|<>)\\n\"\n",
        "\n",
        "        return feedback\n",
        "\n",
        "def main():\n",
        "    print(\"Password Complexity Checker\")\n",
        "\n",
        "    # Get user input for the password\n",
        "    password = input(\"Enter your password: \")\n",
        "\n",
        "    # Check and provide feedback on the password complexity\n",
        "    result = check_password_complexity(password)\n",
        "    print(result)\n",
        "\n",
        "if __name__ == \"__main__\":\n",
        "    main()"
      ],
      "metadata": {
        "colab": {
          "base_uri": "https://localhost:8080/"
        },
        "id": "5zwDi8zROZXP",
        "outputId": "84cf6aba-419e-4ac4-8e6d-29a4f9760e2d"
      },
      "execution_count": null,
      "outputs": [
        {
          "output_type": "stream",
          "name": "stdout",
          "text": [
            "Password Complexity Checker\n",
            "Enter your password: Rabbit$k35\n",
            "Strong password! 👍\n"
          ]
        }
      ]
    }
  ]
}